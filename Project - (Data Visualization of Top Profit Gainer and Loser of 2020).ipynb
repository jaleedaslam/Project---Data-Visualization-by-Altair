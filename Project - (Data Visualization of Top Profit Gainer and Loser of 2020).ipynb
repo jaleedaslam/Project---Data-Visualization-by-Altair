{
 "cells": [
  {
   "cell_type": "markdown",
   "metadata": {},
   "source": [
    "#### We were interested in getting to know the profit figures of companies of USA, Germany and China in the year 2020 and wanted to compare with with year 2019."
   ]
  },
  {
   "cell_type": "code",
   "execution_count": 2,
   "metadata": {},
   "outputs": [],
   "source": [
    "#Import libraries\n",
    "\n",
    "import pandas as pd\n",
    "import numpy as np\n",
    "import matplotlib.pyplot as plt\n",
    "import altair as alt\n"
   ]
  },
  {
   "cell_type": "markdown",
   "metadata": {},
   "source": [
    "#### The data of top companies profit of years 2019 and 2020 of the world by Fortune was collected from the source given below. \n",
    "https://www.someka.net/excel-template/fortune-global-500-list/"
   ]
  },
  {
   "cell_type": "code",
   "execution_count": 3,
   "metadata": {},
   "outputs": [],
   "source": [
    "# Loading the data from csv file\n",
    "\n",
    "df_2019 = pd.read_csv('global-2019.csv')\n",
    "dfff1 = df_2019.set_index('Company Name')\n",
    "\n",
    "\n",
    "df_2020 = pd.read_csv('global-2020.csv')\n",
    "dfff = df_2020.set_index('Company Name')"
   ]
  },
  {
   "cell_type": "markdown",
   "metadata": {},
   "source": [
    "### Profit Gainer Companies of 2020"
   ]
  },
  {
   "cell_type": "code",
   "execution_count": 4,
   "metadata": {},
   "outputs": [],
   "source": [
    "# companies from year 2019 and 2020 were chosen randomly from USA, Germany and China as profit gainer.\n",
    "\n",
    "df_19 =dfff1.loc[['BASF','Deutsche Telekom','Walmart','Berkshire Hathaway','Amazon.com','UnitedHealth Group', 'McKesson',\n",
    "                    'AmerisourceBergen','Sinopec Group','Verizon Communications','Ping An Insurance',\n",
    "                  'Alibaba Group Holding','Pfizer','Merck','AIA Group'],:]\n",
    "df_19.reset_index()\n",
    "\n",
    "\n",
    "df_20 =dfff.loc[['BASF','Deutsche Telekom','Walmart','Berkshire Hathaway','Amazon.com','UnitedHealth Group', 'McKesson',\n",
    "                    'AmerisourceBergen','Sinopec Group','Verizon Communications','Ping An Insurance',\n",
    "                 'Alibaba Group Holding','Pfizer','Merck','AIA Group'],:]\n",
    "\n"
   ]
  },
  {
   "cell_type": "code",
   "execution_count": 17,
   "metadata": {},
   "outputs": [
    {
     "data": {
      "text/html": [
       "\n",
       "<div id=\"altair-viz-1bacdd7b42974f6f841164aa8289e2f8\"></div>\n",
       "<script type=\"text/javascript\">\n",
       "  (function(spec, embedOpt){\n",
       "    let outputDiv = document.currentScript.previousElementSibling;\n",
       "    if (outputDiv.id !== \"altair-viz-1bacdd7b42974f6f841164aa8289e2f8\") {\n",
       "      outputDiv = document.getElementById(\"altair-viz-1bacdd7b42974f6f841164aa8289e2f8\");\n",
       "    }\n",
       "    const paths = {\n",
       "      \"vega\": \"https://cdn.jsdelivr.net/npm//vega@5?noext\",\n",
       "      \"vega-lib\": \"https://cdn.jsdelivr.net/npm//vega-lib?noext\",\n",
       "      \"vega-lite\": \"https://cdn.jsdelivr.net/npm//vega-lite@4.8.1?noext\",\n",
       "      \"vega-embed\": \"https://cdn.jsdelivr.net/npm//vega-embed@6?noext\",\n",
       "    };\n",
       "\n",
       "    function loadScript(lib) {\n",
       "      return new Promise(function(resolve, reject) {\n",
       "        var s = document.createElement('script');\n",
       "        s.src = paths[lib];\n",
       "        s.async = true;\n",
       "        s.onload = () => resolve(paths[lib]);\n",
       "        s.onerror = () => reject(`Error loading script: ${paths[lib]}`);\n",
       "        document.getElementsByTagName(\"head\")[0].appendChild(s);\n",
       "      });\n",
       "    }\n",
       "\n",
       "    function showError(err) {\n",
       "      outputDiv.innerHTML = `<div class=\"error\" style=\"color:red;\">${err}</div>`;\n",
       "      throw err;\n",
       "    }\n",
       "\n",
       "    function displayChart(vegaEmbed) {\n",
       "      vegaEmbed(outputDiv, spec, embedOpt)\n",
       "        .catch(err => showError(`Javascript Error: ${err.message}<br>This usually means there's a typo in your chart specification. See the javascript console for the full traceback.`));\n",
       "    }\n",
       "\n",
       "    if(typeof define === \"function\" && define.amd) {\n",
       "      requirejs.config({paths});\n",
       "      require([\"vega-embed\"], displayChart, err => showError(`Error loading script: ${err.message}`));\n",
       "    } else if (typeof vegaEmbed === \"function\") {\n",
       "      displayChart(vegaEmbed);\n",
       "    } else {\n",
       "      loadScript(\"vega\")\n",
       "        .then(() => loadScript(\"vega-lite\"))\n",
       "        .then(() => loadScript(\"vega-embed\"))\n",
       "        .catch(showError)\n",
       "        .then(() => displayChart(vegaEmbed));\n",
       "    }\n",
       "  })({\"config\": {\"view\": {\"continuousWidth\": 400, \"continuousHeight\": 300}}, \"hconcat\": [{\"data\": {\"name\": \"data-f5f8f873a703df1ae37ea4f045afb127\"}, \"mark\": \"bar\", \"encoding\": {\"color\": {\"type\": \"nominal\", \"field\": \"Company Name\"}, \"tooltip\": [{\"type\": \"nominal\", \"field\": \"Company Name\"}, {\"type\": \"quantitative\", \"field\": \"Profits-2019(mUSD)\"}], \"x\": {\"type\": \"nominal\", \"field\": \"Company Name\"}, \"y\": {\"type\": \"quantitative\", \"field\": \"Profits-2019(mUSD)\"}}, \"height\": 500, \"selection\": {\"selector021\": {\"type\": \"interval\", \"bind\": \"scales\", \"encodings\": [\"x\", \"y\"]}}, \"title\": \"Bar chart of companies profit (2019)\", \"width\": 350}, {\"data\": {\"name\": \"data-f1b7782f289e33cfda3615030cd955f2\"}, \"mark\": \"bar\", \"encoding\": {\"color\": {\"type\": \"nominal\", \"field\": \"Company Name\"}, \"tooltip\": [{\"type\": \"nominal\", \"field\": \"Company Name\"}, {\"type\": \"quantitative\", \"field\": \"Profits-2020 (mUSD)\"}], \"x\": {\"type\": \"nominal\", \"field\": \"Company Name\"}, \"y\": {\"type\": \"quantitative\", \"field\": \"Profits-2020 (mUSD)\"}}, \"height\": 500, \"selection\": {\"selector022\": {\"type\": \"interval\", \"bind\": \"scales\", \"encodings\": [\"x\", \"y\"]}}, \"title\": \"Bar chart of companies profit (2020)\", \"width\": 350}], \"$schema\": \"https://vega.github.io/schema/vega-lite/v4.8.1.json\", \"datasets\": {\"data-f5f8f873a703df1ae37ea4f045afb127\": [{\"Company Name\": \"BASF\", \"Unnamed: 0\": 114, \"Country\": \"Germany\", \"Assets-2019(mUSD)\": \"98.934\", \"Profits-2019(mUSD)\": 5.555, \"Revenue-2019(mUSD)\": 78.799}, {\"Company Name\": \"Deutsche Telekom\", \"Unnamed: 0\": 89, \"Country\": \"Germany\", \"Assets-2019(mUSD)\": \"166.164\", \"Profits-2019(mUSD)\": 2.556, \"Revenue-2019(mUSD)\": 89.287}, {\"Company Name\": \"Walmart\", \"Unnamed: 0\": 0, \"Country\": \"USA\", \"Assets-2019(mUSD)\": \"219.295\", \"Profits-2019(mUSD)\": 6.67, \"Revenue-2019(mUSD)\": 514.405}, {\"Company Name\": \"Berkshire Hathaway\", \"Unnamed: 0\": 11, \"Country\": \"USA\", \"Assets-2019(mUSD)\": \"707.794\", \"Profits-2019(mUSD)\": 4.021, \"Revenue-2019(mUSD)\": 247.837}, {\"Company Name\": \"Amazon.com\", \"Unnamed: 0\": 12, \"Country\": \"USA\", \"Assets-2019(mUSD)\": \"162.648\", \"Profits-2019(mUSD)\": 10.073, \"Revenue-2019(mUSD)\": 232.887}, {\"Company Name\": \"UnitedHealth Group\", \"Unnamed: 0\": 13, \"Country\": \"USA\", \"Assets-2019(mUSD)\": \"152.221\", \"Profits-2019(mUSD)\": 11.986, \"Revenue-2019(mUSD)\": 226.247}, {\"Company Name\": \"McKesson\", \"Unnamed: 0\": 16, \"Country\": \"USA\", \"Assets-2019(mUSD)\": \"59.672\", \"Profits-2019(mUSD)\": 34.0, \"Revenue-2019(mUSD)\": 214.319}, {\"Company Name\": \"AmerisourceBergen\", \"Unnamed: 0\": 26, \"Country\": \"USA\", \"Assets-2019(mUSD)\": \"37.670\", \"Profits-2019(mUSD)\": 1.658, \"Revenue-2019(mUSD)\": 167.94}, {\"Company Name\": \"Sinopec Group\", \"Unnamed: 0\": 1, \"Country\": \"China\", \"Assets-2019(mUSD)\": \"329.186\", \"Profits-2019(mUSD)\": 5.845, \"Revenue-2019(mUSD)\": 414.65}, {\"Company Name\": \"Verizon Communications\", \"Unnamed: 0\": 42, \"Country\": \"USA\", \"Assets-2019(mUSD)\": \"264.829\", \"Profits-2019(mUSD)\": 15.528, \"Revenue-2019(mUSD)\": 130.863}, {\"Company Name\": \"Ping An Insurance\", \"Unnamed: 0\": 28, \"Country\": \"China\", \"Assets-2019(mUSD)\": \"1.040.383\", \"Profits-2019(mUSD)\": 16.237, \"Revenue-2019(mUSD)\": 163.597}, {\"Company Name\": \"Alibaba Group Holding\", \"Unnamed: 0\": 181, \"Country\": \"China\", \"Assets-2019(mUSD)\": \"143.608\", \"Profits-2019(mUSD)\": 13.094, \"Revenue-2019(mUSD)\": 56.147}, {\"Company Name\": \"Pfizer\", \"Unnamed: 0\": 197, \"Country\": \"USA\", \"Assets-2019(mUSD)\": \"159.422\", \"Profits-2019(mUSD)\": 11.153, \"Revenue-2019(mUSD)\": 53.647}, {\"Company Name\": \"Merck\", \"Unnamed: 0\": 284, \"Country\": \"USA\", \"Assets-2019(mUSD)\": \"82.637\", \"Profits-2019(mUSD)\": 6.22, \"Revenue-2019(mUSD)\": 42.294}, {\"Company Name\": \"AIA Group\", \"Unnamed: 0\": 387, \"Country\": \"China\", \"Assets-2019(mUSD)\": \"229.806\", \"Profits-2019(mUSD)\": 2.597, \"Revenue-2019(mUSD)\": 32.369}], \"data-f1b7782f289e33cfda3615030cd955f2\": [{\"Company Name\": \"BASF\", \"Unnamed: 0\": 142, \"Country\": \"Germany\", \"Assets-2020(mUSD)\": \"97.593\", \"Profits-2020 (mUSD)\": 9.425, \"Revenues-2020(mUSD)\": 70.723}, {\"Company Name\": \"Deutsche Telekom\", \"Unnamed: 0\": 85, \"Country\": \"Germany\", \"Assets-2020(mUSD)\": \"191.562\", \"Profits-2020 (mUSD)\": 4.328, \"Revenues-2020(mUSD)\": 90.135}, {\"Company Name\": \"Walmart\", \"Unnamed: 0\": 0, \"Country\": \"USA\", \"Assets-2020(mUSD)\": \"236.495\", \"Profits-2020 (mUSD)\": 14.881, \"Revenues-2020(mUSD)\": 523.964}, {\"Company Name\": \"Berkshire Hathaway\", \"Unnamed: 0\": 13, \"Country\": \"USA\", \"Assets-2020(mUSD)\": \"817.729\", \"Profits-2020 (mUSD)\": 81.417, \"Revenues-2020(mUSD)\": 254.616}, {\"Company Name\": \"Amazon.com\", \"Unnamed: 0\": 8, \"Country\": \"USA\", \"Assets-2020(mUSD)\": \"225.248\", \"Profits-2020 (mUSD)\": 11.588, \"Revenues-2020(mUSD)\": 280.522}, {\"Company Name\": \"UnitedHealth Group\", \"Unnamed: 0\": 14, \"Country\": \"USA\", \"Assets-2020(mUSD)\": \"173.889\", \"Profits-2020 (mUSD)\": 13.839, \"Revenues-2020(mUSD)\": 242.155}, {\"Company Name\": \"McKesson\", \"Unnamed: 0\": 15, \"Country\": \"USA\", \"Assets-2020(mUSD)\": \"61.247\", \"Profits-2020 (mUSD)\": 900.0, \"Revenues-2020(mUSD)\": 231.051}, {\"Company Name\": \"AmerisourceBergen\", \"Unnamed: 0\": 22, \"Country\": \"USA\", \"Assets-2020(mUSD)\": \"39.172\", \"Profits-2020 (mUSD)\": 855.0, \"Revenues-2020(mUSD)\": 179.589}, {\"Company Name\": \"Sinopec Group\", \"Unnamed: 0\": 1, \"Country\": \"China\", \"Assets-2020(mUSD)\": \"317.516\", \"Profits-2020 (mUSD)\": 6.793, \"Revenues-2020(mUSD)\": 407.009}, {\"Company Name\": \"Verizon Communications\", \"Unnamed: 0\": 43, \"Country\": \"USA\", \"Assets-2020(mUSD)\": \"291.727\", \"Profits-2020 (mUSD)\": 19.265, \"Revenues-2020(mUSD)\": 131.868}, {\"Company Name\": \"Ping An Insurance\", \"Unnamed: 0\": 20, \"Country\": \"China\", \"Assets-2020(mUSD)\": \"1.180.489\", \"Profits-2020 (mUSD)\": 21.627, \"Revenues-2020(mUSD)\": 184.28}, {\"Company Name\": \"Alibaba Group Holding\", \"Unnamed: 0\": 131, \"Country\": \"China\", \"Assets-2020(mUSD)\": \"185.027\", \"Profits-2020 (mUSD)\": 21.45, \"Revenues-2020(mUSD)\": 73.166}, {\"Company Name\": \"Pfizer\", \"Unnamed: 0\": 214, \"Country\": \"USA\", \"Assets-2020(mUSD)\": \"167.489\", \"Profits-2020 (mUSD)\": 16.273, \"Revenues-2020(mUSD)\": 51.75}, {\"Company Name\": \"Merck\", \"Unnamed: 0\": 255, \"Country\": \"USA\", \"Assets-2020(mUSD)\": \"84.397\", \"Profits-2020 (mUSD)\": 9.843, \"Revenues-2020(mUSD)\": 46.84}, {\"Company Name\": \"AIA Group\", \"Unnamed: 0\": 249, \"Country\": \"Hong Kong\", \"Assets-2020(mUSD)\": \"284.132\", \"Profits-2020 (mUSD)\": 6.648, \"Revenues-2020(mUSD)\": 47.242}]}}, {\"mode\": \"vega-lite\"});\n",
       "</script>"
      ],
      "text/plain": [
       "alt.HConcatChart(...)"
      ]
     },
     "execution_count": 17,
     "metadata": {},
     "output_type": "execute_result"
    }
   ],
   "source": [
    "# Plotting br chart of companies profit (2019)\n",
    "y19=alt.Chart(df_19.reset_index()).mark_bar().encode(\n",
    "    y='Profits-2019(mUSD):Q',\n",
    "    x='Company Name',\n",
    "    color ='Company Name',tooltip=['Company Name','Profits-2019(mUSD):Q'] \n",
    ").properties(width=350, height= 500  ,title='Bar chart of companies profit (2019)' ).interactive()\n",
    "\n",
    "\n",
    "# Plotting br chart of companies profit (2020)\n",
    "y20 =alt.Chart(df_20.reset_index()).mark_bar().encode(\n",
    "    y='Profits-2020 (mUSD):Q',\n",
    "    x='Company Name',\n",
    "    color ='Company Name',tooltip=['Company Name', 'Profits-2020 (mUSD):Q'] \n",
    ").properties(width=350, height= 500  ,title='Bar chart of companies profit (2020)' ).interactive()\n",
    "\n",
    "y19 | y20"
   ]
  },
  {
   "cell_type": "markdown",
   "metadata": {},
   "source": [
    "Amazon - Technology company based on e-commerce, US\n",
    "<br>\n",
    "Amerisource Bergen - Drug wholesale company, US\n",
    "<br>\n",
    "BASF - chemical Corporation, German \n",
    "<br>\n",
    "Berkshire Hathaway - Casualty insurance company, US\n",
    "<br>\n",
    "Deutsche Telekom - Telecommunications company, German\n",
    "<br>\n",
    "McKesson Corporation - Pharmaceuticals and medical supplies distributing company, US\n",
    "<br>\n",
    "Sinopec Group - Petroleum & Chemical Corporation, China\n",
    "<br>\n",
    "UnitedHealth Group - Health care company, US\n",
    "<br>\n",
    "Verizon - Communication technology companies, US\n",
    "<br>\n",
    "Walmart - Retail corporation, US\n",
    "<br>\n",
    "Ping An Insurance - Insurance Company, China\n",
    "<br>\n",
    "Alibaba Group Holding - E-commerce, retail, Internet, and technology company, China\n",
    "<br>\n",
    "Pfizer - Pharmaceutical corporation, US\n",
    "<br>\n",
    "Merck - Pharmaceutical drugs and vaccines manufacturer, US\n",
    "<br>\n",
    "AIA Group - Insurance and finance corporation, China"
   ]
  },
  {
   "cell_type": "markdown",
   "metadata": {},
   "source": [
    "# Profit Loser Companies of 2020"
   ]
  },
  {
   "cell_type": "code",
   "execution_count": 12,
   "metadata": {},
   "outputs": [],
   "source": [
    "# companies from year 2019 and 2020 were chosen randomly from USA, Germany and China as profit losser.\n",
    "\n",
    "df_19_Loser=dfff1.loc[['Daimler', 'BMW Group','Siemens','Bosch Group','Lufthansa Group','SAP','Exxon Mobil', \n",
    "                           'AT&T','SAIC Motor','Fannie Mae','Chevron','General Motors','Wells Fargo','PepsiCo'],:]\n",
    "\n",
    "df_20_Loser =dfff.loc[['Daimler', 'BMW Group','Siemens','Bosch Group','Lufthansa Group','SAP','Exxon Mobil', \n",
    "                           'AT&T','SAIC Motor','Fannie Mae','Chevron','General Motors','Wells Fargo','PepsiCo'],:]\n",
    "\n"
   ]
  },
  {
   "cell_type": "code",
   "execution_count": 13,
   "metadata": {},
   "outputs": [
    {
     "data": {
      "text/html": [
       "\n",
       "<div id=\"altair-viz-c567b64a046c49009c11db47bf9938ea\"></div>\n",
       "<script type=\"text/javascript\">\n",
       "  (function(spec, embedOpt){\n",
       "    let outputDiv = document.currentScript.previousElementSibling;\n",
       "    if (outputDiv.id !== \"altair-viz-c567b64a046c49009c11db47bf9938ea\") {\n",
       "      outputDiv = document.getElementById(\"altair-viz-c567b64a046c49009c11db47bf9938ea\");\n",
       "    }\n",
       "    const paths = {\n",
       "      \"vega\": \"https://cdn.jsdelivr.net/npm//vega@5?noext\",\n",
       "      \"vega-lib\": \"https://cdn.jsdelivr.net/npm//vega-lib?noext\",\n",
       "      \"vega-lite\": \"https://cdn.jsdelivr.net/npm//vega-lite@4.8.1?noext\",\n",
       "      \"vega-embed\": \"https://cdn.jsdelivr.net/npm//vega-embed@6?noext\",\n",
       "    };\n",
       "\n",
       "    function loadScript(lib) {\n",
       "      return new Promise(function(resolve, reject) {\n",
       "        var s = document.createElement('script');\n",
       "        s.src = paths[lib];\n",
       "        s.async = true;\n",
       "        s.onload = () => resolve(paths[lib]);\n",
       "        s.onerror = () => reject(`Error loading script: ${paths[lib]}`);\n",
       "        document.getElementsByTagName(\"head\")[0].appendChild(s);\n",
       "      });\n",
       "    }\n",
       "\n",
       "    function showError(err) {\n",
       "      outputDiv.innerHTML = `<div class=\"error\" style=\"color:red;\">${err}</div>`;\n",
       "      throw err;\n",
       "    }\n",
       "\n",
       "    function displayChart(vegaEmbed) {\n",
       "      vegaEmbed(outputDiv, spec, embedOpt)\n",
       "        .catch(err => showError(`Javascript Error: ${err.message}<br>This usually means there's a typo in your chart specification. See the javascript console for the full traceback.`));\n",
       "    }\n",
       "\n",
       "    if(typeof define === \"function\" && define.amd) {\n",
       "      requirejs.config({paths});\n",
       "      require([\"vega-embed\"], displayChart, err => showError(`Error loading script: ${err.message}`));\n",
       "    } else if (typeof vegaEmbed === \"function\") {\n",
       "      displayChart(vegaEmbed);\n",
       "    } else {\n",
       "      loadScript(\"vega\")\n",
       "        .then(() => loadScript(\"vega-lite\"))\n",
       "        .then(() => loadScript(\"vega-embed\"))\n",
       "        .catch(showError)\n",
       "        .then(() => displayChart(vegaEmbed));\n",
       "    }\n",
       "  })({\"config\": {\"view\": {\"continuousWidth\": 400, \"continuousHeight\": 300}}, \"hconcat\": [{\"data\": {\"name\": \"data-ad46e27fbc7952d2afc2c3b5069536bc\"}, \"mark\": \"bar\", \"encoding\": {\"color\": {\"type\": \"nominal\", \"field\": \"Company Name\"}, \"tooltip\": [{\"type\": \"nominal\", \"field\": \"Company Name\"}, {\"type\": \"quantitative\", \"field\": \"Profits-2019(mUSD)\"}], \"x\": {\"type\": \"nominal\", \"field\": \"Company Name\"}, \"y\": {\"type\": \"quantitative\", \"field\": \"Profits-2019(mUSD)\"}}, \"height\": 300, \"selection\": {\"selector013\": {\"type\": \"interval\", \"bind\": \"scales\", \"encodings\": [\"x\", \"y\"]}}, \"title\": \"Bar chart of companies profit (2019)\", \"width\": 400}, {\"data\": {\"name\": \"data-cf27f57dccca930551b13286352b76dc\"}, \"mark\": \"bar\", \"encoding\": {\"color\": {\"type\": \"nominal\", \"field\": \"Company Name\"}, \"tooltip\": [{\"type\": \"nominal\", \"field\": \"Company Name\"}, {\"type\": \"quantitative\", \"field\": \"Profits-2020 (mUSD)\"}], \"x\": {\"type\": \"nominal\", \"field\": \"Company Name\"}, \"y\": {\"type\": \"quantitative\", \"field\": \"Profits-2020 (mUSD)\"}}, \"height\": 300, \"selection\": {\"selector014\": {\"type\": \"interval\", \"bind\": \"scales\", \"encodings\": [\"x\", \"y\"]}}, \"title\": \"Bar chart of companies profit (2020)\", \"width\": 350}], \"$schema\": \"https://vega.github.io/schema/vega-lite/v4.8.1.json\", \"datasets\": {\"data-ad46e27fbc7952d2afc2c3b5069536bc\": [{\"Company Name\": \"Daimler\", \"Unnamed: 0\": 17, \"Country\": \"Germany\", \"Assets-2019(mUSD)\": \"321.891\", \"Profits-2019(mUSD)\": 8.555, \"Revenue-2019(mUSD)\": 197.515}, {\"Company Name\": \"BMW Group\", \"Unnamed: 0\": 52, \"Country\": \"Germany\", \"Assets-2019(mUSD)\": \"238.864\", \"Profits-2019(mUSD)\": 8.399, \"Revenue-2019(mUSD)\": 115.043}, {\"Company Name\": \"Siemens\", \"Unnamed: 0\": 69, \"Country\": \"Germany\", \"Assets-2019(mUSD)\": \"161.336\", \"Profits-2019(mUSD)\": 6.909, \"Revenue-2019(mUSD)\": 98.802}, {\"Company Name\": \"Bosch Group\", \"Unnamed: 0\": 76, \"Country\": \"Germany\", \"Assets-2019(mUSD)\": \"95.617\", \"Profits-2019(mUSD)\": 3.596, \"Revenue-2019(mUSD)\": 92.602}, {\"Company Name\": \"Lufthansa Group\", \"Unnamed: 0\": 283, \"Country\": \"Germany\", \"Assets-2019(mUSD)\": \"43.678\", \"Profits-2019(mUSD)\": 2.553, \"Revenue-2019(mUSD)\": 42.302}, {\"Company Name\": \"SAP\", \"Unnamed: 0\": 426, \"Country\": \"Germany\", \"Assets-2019(mUSD)\": \"58.854\", \"Profits-2019(mUSD)\": 4.819, \"Revenue-2019(mUSD)\": 29.16}, {\"Company Name\": \"Exxon Mobil\", \"Unnamed: 0\": 7, \"Country\": \"USA\", \"Assets-2019(mUSD)\": \"346.196\", \"Profits-2019(mUSD)\": 20.84, \"Revenue-2019(mUSD)\": 290.212}, {\"Company Name\": \"AT&T\", \"Unnamed: 0\": 24, \"Country\": \"USA\", \"Assets-2019(mUSD)\": \"531.864\", \"Profits-2019(mUSD)\": 19.37, \"Revenue-2019(mUSD)\": 170.756}, {\"Company Name\": \"SAIC Motor\", \"Unnamed: 0\": 38, \"Country\": \"China\", \"Assets-2019(mUSD)\": \"114.012\", \"Profits-2019(mUSD)\": 5.444, \"Revenue-2019(mUSD)\": 136.393}, {\"Company Name\": \"Fannie Mae\", \"Unnamed: 0\": 48, \"Country\": \"USA\", \"Assets-2019(mUSD)\": \"3.418.318\", \"Profits-2019(mUSD)\": 15.959, \"Revenue-2019(mUSD)\": 120.101}, {\"Company Name\": \"Chevron\", \"Unnamed: 0\": 27, \"Country\": \"USA\", \"Assets-2019(mUSD)\": \"253.863\", \"Profits-2019(mUSD)\": 14.824, \"Revenue-2019(mUSD)\": 166.339}, {\"Company Name\": \"General Motors\", \"Unnamed: 0\": 31, \"Country\": \"USA\", \"Assets-2019(mUSD)\": \"227.339\", \"Profits-2019(mUSD)\": 8.014, \"Revenue-2019(mUSD)\": 147.049}, {\"Company Name\": \"Wells Fargo\", \"Unnamed: 0\": 68, \"Country\": \"USA\", \"Assets-2019(mUSD)\": \"1.895.883\", \"Profits-2019(mUSD)\": 22.393, \"Revenue-2019(mUSD)\": 101.06}, {\"Company Name\": \"PepsiCo\", \"Unnamed: 0\": 153, \"Country\": \"USA\", \"Assets-2019(mUSD)\": \"77.648\", \"Profits-2019(mUSD)\": 12.515, \"Revenue-2019(mUSD)\": 64.661}], \"data-cf27f57dccca930551b13286352b76dc\": [{\"Company Name\": \"Daimler\", \"Unnamed: 0\": 19, \"Country\": \"Germany\", \"Assets-2020(mUSD)\": \"339.456\", \"Profits-2020 (mUSD)\": 2.661, \"Revenues-2020(mUSD)\": 193.346}, {\"Company Name\": \"BMW Group\", \"Unnamed: 0\": 55, \"Country\": \"Germany\", \"Assets-2020(mUSD)\": \"255.945\", \"Profits-2020 (mUSD)\": 5.501, \"Revenues-2020(mUSD)\": 116.638}, {\"Company Name\": \"Siemens\", \"Unnamed: 0\": 73, \"Country\": \"Germany\", \"Assets-2020(mUSD)\": \"163.785\", \"Profits-2020 (mUSD)\": 5.835, \"Revenues-2020(mUSD)\": 97.937}, {\"Company Name\": \"Bosch Group\", \"Unnamed: 0\": 94, \"Country\": \"Germany\", \"Assets-2020(mUSD)\": \"99.927\", \"Profits-2020 (mUSD)\": 1.781, \"Revenues-2020(mUSD)\": 86.99}, {\"Company Name\": \"Lufthansa Group\", \"Unnamed: 0\": 303, \"Country\": \"Germany\", \"Assets-2020(mUSD)\": \"47.881\", \"Profits-2020 (mUSD)\": 1.358, \"Revenues-2020(mUSD)\": 40.768}, {\"Company Name\": \"SAP\", \"Unnamed: 0\": 403, \"Country\": \"Germany\", \"Assets-2020(mUSD)\": \"67.585\", \"Profits-2020 (mUSD)\": 3.717, \"Revenues-2020(mUSD)\": 30.839}, {\"Company Name\": \"Exxon Mobil\", \"Unnamed: 0\": 10, \"Country\": \"USA\", \"Assets-2020(mUSD)\": \"362.597\", \"Profits-2020 (mUSD)\": 14.34, \"Revenues-2020(mUSD)\": 264.938}, {\"Company Name\": \"AT&T\", \"Unnamed: 0\": 21, \"Country\": \"USA\", \"Assets-2020(mUSD)\": \"551.669\", \"Profits-2020 (mUSD)\": 13.903, \"Revenues-2020(mUSD)\": 181.193}, {\"Company Name\": \"SAIC Motor\", \"Unnamed: 0\": 51, \"Country\": \"China\", \"Assets-2020(mUSD)\": \"121.931\", \"Profits-2020 (mUSD)\": 3.706, \"Revenues-2020(mUSD)\": 122.071}, {\"Company Name\": \"Fannie Mae\", \"Unnamed: 0\": 52, \"Country\": \"USA\", \"Assets-2020(mUSD)\": \"3.503.319\", \"Profits-2020 (mUSD)\": 14.16, \"Revenues-2020(mUSD)\": 120.304}, {\"Company Name\": \"Chevron\", \"Unnamed: 0\": 35, \"Country\": \"USA\", \"Assets-2020(mUSD)\": \"237.428\", \"Profits-2020 (mUSD)\": 2.924, \"Revenues-2020(mUSD)\": 146.516}, {\"Company Name\": \"General Motors\", \"Unnamed: 0\": 39, \"Country\": \"USA\", \"Assets-2020(mUSD)\": \"228.037\", \"Profits-2020 (mUSD)\": 6.732, \"Revenues-2020(mUSD)\": 137.237}, {\"Company Name\": \"Wells Fargo\", \"Unnamed: 0\": 68, \"Country\": \"USA\", \"Assets-2020(mUSD)\": \"1.927.555\", \"Profits-2020 (mUSD)\": 19.549, \"Revenues-2020(mUSD)\": 103.915}, {\"Company Name\": \"PepsiCo\", \"Unnamed: 0\": 159, \"Country\": \"USA\", \"Assets-2020(mUSD)\": \"78.547\", \"Profits-2020 (mUSD)\": 7.314, \"Revenues-2020(mUSD)\": 67.161}]}}, {\"mode\": \"vega-lite\"});\n",
       "</script>"
      ],
      "text/plain": [
       "alt.HConcatChart(...)"
      ]
     },
     "execution_count": 13,
     "metadata": {},
     "output_type": "execute_result"
    }
   ],
   "source": [
    "#Plotting bar chart \n",
    "y19_loser=alt.Chart(df_19_Loser.reset_index()).mark_bar().encode(\n",
    "    y='Profits-2019(mUSD):Q',\n",
    "    x='Company Name',\n",
    "    color ='Company Name',tooltip=['Company Name','Profits-2019(mUSD):Q'] \n",
    ").properties( width=400, height= 300  ,title='Bar chart of companies profit (2019)').interactive()\n",
    "\n",
    "\n",
    "#Plotting bar chart \n",
    "y20_Loser =alt.Chart(df_20_Loser.reset_index()).mark_bar().encode(\n",
    "    y='Profits-2020 (mUSD):Q',\n",
    "    x='Company Name',\n",
    "    color ='Company Name',tooltip=['Company Name', 'Profits-2020 (mUSD):Q'] \n",
    ").properties( width=350, height= 300  ,title='Bar chart of companies profit (2020)' ).interactive()\n",
    "\n",
    "y19_loser | y20_Loser"
   ]
  },
  {
   "cell_type": "markdown",
   "metadata": {},
   "source": [
    "BMW Group - Vehicles manufacturing company, German\n",
    "<br>\n",
    "Bosch Group - Engineering and technology company, German\n",
    "<br>\n",
    "Daimler - Automotive corporation, German\n",
    "<br>\n",
    "Exon Mobil - Oil and gas corporation, US\n",
    "<br>\n",
    "Lufthansa Group - Airline, German\n",
    "<br>\n",
    "SAIC Motor - Automotive design and manufacturing company, China\n",
    "<br>\n",
    "SAP - Software corporation, German\n",
    "<br>\n",
    "Siemens - Industrial manufacturing company, German\n",
    "<br>\n",
    "Fannie Mae - National Mortgage Association, US\n",
    "<br>\n",
    "Chevron - Oil & Gas company, US\n",
    "<br>\n",
    "General Motors - Vehicles manufacturer and distributor, US\n",
    "<br>\n",
    "Wells Fargo\t- Financial services company, US\n",
    "<br>\n",
    "PepsiCo -  Food, snack and beverage corporation, US"
   ]
  },
  {
   "cell_type": "code",
   "execution_count": null,
   "metadata": {},
   "outputs": [],
   "source": []
  },
  {
   "cell_type": "code",
   "execution_count": null,
   "metadata": {},
   "outputs": [],
   "source": []
  }
 ],
 "metadata": {
  "kernelspec": {
   "display_name": "Python 3 (ipykernel)",
   "language": "python",
   "name": "python3"
  },
  "language_info": {
   "codemirror_mode": {
    "name": "ipython",
    "version": 3
   },
   "file_extension": ".py",
   "mimetype": "text/x-python",
   "name": "python",
   "nbconvert_exporter": "python",
   "pygments_lexer": "ipython3",
   "version": "3.9.12"
  }
 },
 "nbformat": 4,
 "nbformat_minor": 4
}
